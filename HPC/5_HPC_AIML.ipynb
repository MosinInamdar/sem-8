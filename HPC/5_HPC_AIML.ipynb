{
 "cells": [
  {
   "cell_type": "code",
   "execution_count": null,
   "id": "14e78094",
   "metadata": {
    "vscode": {
     "languageId": "plaintext"
    }
   },
   "outputs": [],
   "source": [
    "# First, let's install the required libraries if they are not already installed\n",
    "!pip install torch\n",
    "\n",
    "# Import required libraries\n",
    "import torch\n",
    "import time\n",
    "\n",
    "# Check if CUDA is available\n",
    "device = torch.device('cuda' if torch.cuda.is_available() else 'cpu')\n",
    "\n",
    "# Define the matrix size\n",
    "M, K, N = 512, 512, 512  # A(MxK) * B(KxN) = C(MxN)\n",
    "\n",
    "# Create random matrices A and B on the CPU\n",
    "A = torch.randn(M, K, device='cpu')\n",
    "B = torch.randn(K, N, device='cpu')\n",
    "\n",
    "# Move matrices to the GPU\n",
    "A_gpu = A.to(device)\n",
    "B_gpu = B.to(device)\n",
    "\n",
    "# Initialize an empty tensor for the result matrix on the GPU\n",
    "C_gpu = torch.zeros(M, N, device=device)\n",
    "\n",
    "# Function for matrix multiplication on the CPU\n",
    "def matrix_multiply_cpu(A, B):\n",
    "    return torch.mm(A, B)\n",
    "\n",
    "# Function for matrix multiplication on the GPU\n",
    "def matrix_multiply_gpu(A_gpu, B_gpu):\n",
    "    return torch.mm(A_gpu, B_gpu)\n",
    "\n",
    "# Measure the time taken for matrix multiplication on the CPU\n",
    "start_time = time.time()\n",
    "C_cpu = matrix_multiply_cpu(A, B)\n",
    "cpu_time = time.time() - start_time\n",
    "print(f\"Matrix multiplication on CPU took {cpu_time:.4f} seconds.\")\n",
    "\n",
    "# Measure the time taken for matrix multiplication on the GPU\n",
    "start_time = time.time()\n",
    "C_gpu_result = matrix_multiply_gpu(A_gpu, B_gpu)\n",
    "gpu_time = time.time() - start_time\n",
    "print(f\"Matrix multiplication on GPU took {gpu_time:.4f} seconds.\")\n",
    "\n",
    "# Check if the results match\n",
    "print(f\"Are the results from CPU and GPU identical? {torch.allclose(C_cpu, C_gpu_result)}\")\n"
   ]
  }
 ],
 "metadata": {
  "language_info": {
   "name": "python"
  }
 },
 "nbformat": 4,
 "nbformat_minor": 5
}
